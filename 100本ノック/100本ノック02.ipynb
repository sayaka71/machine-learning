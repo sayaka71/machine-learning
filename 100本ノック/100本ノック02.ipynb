{
 "cells": [
  {
   "cell_type": "markdown",
   "metadata": {},
   "source": [
    "# 第二章　小売店のデータでテータ加工を行う"
   ]
  },
  {
   "cell_type": "code",
   "execution_count": 1,
   "metadata": {},
   "outputs": [],
   "source": [
    "import pandas as pd\n",
    "import numpy as np\n",
    "import matplotlib.pyplot as plt\n",
    "import seaborn as sns\n",
    "%matplotlib inline"
   ]
  },
  {
   "cell_type": "code",
   "execution_count": 2,
   "metadata": {},
   "outputs": [
    {
     "data": {
      "text/html": [
       "<div>\n",
       "<style scoped>\n",
       "    .dataframe tbody tr th:only-of-type {\n",
       "        vertical-align: middle;\n",
       "    }\n",
       "\n",
       "    .dataframe tbody tr th {\n",
       "        vertical-align: top;\n",
       "    }\n",
       "\n",
       "    .dataframe thead th {\n",
       "        text-align: right;\n",
       "    }\n",
       "</style>\n",
       "<table border=\"1\" class=\"dataframe\">\n",
       "  <thead>\n",
       "    <tr style=\"text-align: right;\">\n",
       "      <th></th>\n",
       "      <th>purchase_date</th>\n",
       "      <th>item_name</th>\n",
       "      <th>item_price</th>\n",
       "      <th>customer_name</th>\n",
       "    </tr>\n",
       "  </thead>\n",
       "  <tbody>\n",
       "    <tr>\n",
       "      <td>0</td>\n",
       "      <td>2019-06-13 18:02:34</td>\n",
       "      <td>商品A</td>\n",
       "      <td>100.0</td>\n",
       "      <td>深井菜々美</td>\n",
       "    </tr>\n",
       "    <tr>\n",
       "      <td>1</td>\n",
       "      <td>2019-07-13 13:05:29</td>\n",
       "      <td>商 品 S</td>\n",
       "      <td>NaN</td>\n",
       "      <td>浅田賢二</td>\n",
       "    </tr>\n",
       "    <tr>\n",
       "      <td>2</td>\n",
       "      <td>2019-05-11 19:42:07</td>\n",
       "      <td>商 品 a</td>\n",
       "      <td>NaN</td>\n",
       "      <td>南部慶二</td>\n",
       "    </tr>\n",
       "    <tr>\n",
       "      <td>3</td>\n",
       "      <td>2019-02-12 23:40:45</td>\n",
       "      <td>商品Z</td>\n",
       "      <td>2600.0</td>\n",
       "      <td>麻生莉緒</td>\n",
       "    </tr>\n",
       "    <tr>\n",
       "      <td>4</td>\n",
       "      <td>2019-04-22 03:09:35</td>\n",
       "      <td>商品a</td>\n",
       "      <td>NaN</td>\n",
       "      <td>平田鉄二</td>\n",
       "    </tr>\n",
       "  </tbody>\n",
       "</table>\n",
       "</div>"
      ],
      "text/plain": [
       "         purchase_date item_name  item_price customer_name\n",
       "0  2019-06-13 18:02:34       商品A       100.0         深井菜々美\n",
       "1  2019-07-13 13:05:29     商 品 S         NaN          浅田賢二\n",
       "2  2019-05-11 19:42:07     商 品 a         NaN          南部慶二\n",
       "3  2019-02-12 23:40:45       商品Z      2600.0          麻生莉緒\n",
       "4  2019-04-22 03:09:35       商品a         NaN          平田鉄二"
      ]
     },
     "execution_count": 2,
     "metadata": {},
     "output_type": "execute_result"
    }
   ],
   "source": [
    "uriage_data = pd.read_csv('Data100/2_data/uriage.csv')\n",
    "uriage_data.head()"
   ]
  },
  {
   "cell_type": "code",
   "execution_count": 3,
   "metadata": {},
   "outputs": [
    {
     "data": {
      "text/plain": [
       "purchase_date      0\n",
       "item_name          0\n",
       "item_price       387\n",
       "customer_name      0\n",
       "dtype: int64"
      ]
     },
     "execution_count": 3,
     "metadata": {},
     "output_type": "execute_result"
    }
   ],
   "source": [
    "uriage_data.isnull().sum()"
   ]
  },
  {
   "cell_type": "code",
   "execution_count": 4,
   "metadata": {},
   "outputs": [
    {
     "data": {
      "text/html": [
       "<div>\n",
       "<style scoped>\n",
       "    .dataframe tbody tr th:only-of-type {\n",
       "        vertical-align: middle;\n",
       "    }\n",
       "\n",
       "    .dataframe tbody tr th {\n",
       "        vertical-align: top;\n",
       "    }\n",
       "\n",
       "    .dataframe thead th {\n",
       "        text-align: right;\n",
       "    }\n",
       "</style>\n",
       "<table border=\"1\" class=\"dataframe\">\n",
       "  <thead>\n",
       "    <tr style=\"text-align: right;\">\n",
       "      <th></th>\n",
       "      <th>顧客名</th>\n",
       "      <th>かな</th>\n",
       "      <th>地域</th>\n",
       "      <th>メールアドレス</th>\n",
       "      <th>登録日</th>\n",
       "    </tr>\n",
       "  </thead>\n",
       "  <tbody>\n",
       "    <tr>\n",
       "      <td>0</td>\n",
       "      <td>須賀ひとみ</td>\n",
       "      <td>すが ひとみ</td>\n",
       "      <td>H市</td>\n",
       "      <td>suga_hitomi@example.com</td>\n",
       "      <td>2018/01/04</td>\n",
       "    </tr>\n",
       "    <tr>\n",
       "      <td>1</td>\n",
       "      <td>岡田　 敏也</td>\n",
       "      <td>おかだ としや</td>\n",
       "      <td>E市</td>\n",
       "      <td>okada_toshiya@example.com</td>\n",
       "      <td>42782</td>\n",
       "    </tr>\n",
       "    <tr>\n",
       "      <td>2</td>\n",
       "      <td>芳賀 希</td>\n",
       "      <td>はが のぞみ</td>\n",
       "      <td>A市</td>\n",
       "      <td>haga_nozomi@example.com</td>\n",
       "      <td>2018/01/07</td>\n",
       "    </tr>\n",
       "    <tr>\n",
       "      <td>3</td>\n",
       "      <td>荻野  愛</td>\n",
       "      <td>おぎの あい</td>\n",
       "      <td>F市</td>\n",
       "      <td>ogino_ai@example.com</td>\n",
       "      <td>42872</td>\n",
       "    </tr>\n",
       "    <tr>\n",
       "      <td>4</td>\n",
       "      <td>栗田 憲一</td>\n",
       "      <td>くりた けんいち</td>\n",
       "      <td>E市</td>\n",
       "      <td>kurita_kenichi@example.com</td>\n",
       "      <td>43127</td>\n",
       "    </tr>\n",
       "  </tbody>\n",
       "</table>\n",
       "</div>"
      ],
      "text/plain": [
       "      顧客名        かな  地域                     メールアドレス         登録日\n",
       "0   須賀ひとみ    すが ひとみ  H市     suga_hitomi@example.com  2018/01/04\n",
       "1  岡田　 敏也   おかだ としや  E市   okada_toshiya@example.com       42782\n",
       "2    芳賀 希    はが のぞみ  A市     haga_nozomi@example.com  2018/01/07\n",
       "3   荻野  愛    おぎの あい  F市        ogino_ai@example.com       42872\n",
       "4   栗田 憲一  くりた けんいち  E市  kurita_kenichi@example.com       43127"
      ]
     },
     "execution_count": 4,
     "metadata": {},
     "output_type": "execute_result"
    }
   ],
   "source": [
    "kokyaku_data = pd.read_excel('Data100/2_data/kokyaku_daicho.xlsx')\n",
    "kokyaku_data.head()"
   ]
  },
  {
   "cell_type": "code",
   "execution_count": 5,
   "metadata": {},
   "outputs": [
    {
     "data": {
      "text/plain": [
       "顧客名        0\n",
       "かな         0\n",
       "地域         0\n",
       "メールアドレス    0\n",
       "登録日        0\n",
       "dtype: int64"
      ]
     },
     "execution_count": 5,
     "metadata": {},
     "output_type": "execute_result"
    }
   ],
   "source": [
    "kokyaku_data.isnull().sum()"
   ]
  },
  {
   "cell_type": "code",
   "execution_count": 6,
   "metadata": {},
   "outputs": [
    {
     "data": {
      "text/html": [
       "<div>\n",
       "<style scoped>\n",
       "    .dataframe tbody tr th:only-of-type {\n",
       "        vertical-align: middle;\n",
       "    }\n",
       "\n",
       "    .dataframe tbody tr th {\n",
       "        vertical-align: top;\n",
       "    }\n",
       "\n",
       "    .dataframe thead th {\n",
       "        text-align: right;\n",
       "    }\n",
       "</style>\n",
       "<table border=\"1\" class=\"dataframe\">\n",
       "  <thead>\n",
       "    <tr style=\"text-align: right;\">\n",
       "      <th></th>\n",
       "      <th>顧客名</th>\n",
       "      <th>かな</th>\n",
       "      <th>地域</th>\n",
       "      <th>メールアドレス</th>\n",
       "      <th>登録日</th>\n",
       "    </tr>\n",
       "  </thead>\n",
       "  <tbody>\n",
       "    <tr>\n",
       "      <td>0</td>\n",
       "      <td>須賀ひとみ</td>\n",
       "      <td>すが ひとみ</td>\n",
       "      <td>H市</td>\n",
       "      <td>suga_hitomi@example.com</td>\n",
       "      <td>2018/01/04</td>\n",
       "    </tr>\n",
       "    <tr>\n",
       "      <td>1</td>\n",
       "      <td>岡田　 敏也</td>\n",
       "      <td>おかだ としや</td>\n",
       "      <td>E市</td>\n",
       "      <td>okada_toshiya@example.com</td>\n",
       "      <td>42782</td>\n",
       "    </tr>\n",
       "    <tr>\n",
       "      <td>2</td>\n",
       "      <td>芳賀 希</td>\n",
       "      <td>はが のぞみ</td>\n",
       "      <td>A市</td>\n",
       "      <td>haga_nozomi@example.com</td>\n",
       "      <td>2018/01/07</td>\n",
       "    </tr>\n",
       "  </tbody>\n",
       "</table>\n",
       "</div>"
      ],
      "text/plain": [
       "      顧客名       かな  地域                    メールアドレス         登録日\n",
       "0   須賀ひとみ   すが ひとみ  H市    suga_hitomi@example.com  2018/01/04\n",
       "1  岡田　 敏也  おかだ としや  E市  okada_toshiya@example.com       42782\n",
       "2    芳賀 希   はが のぞみ  A市    haga_nozomi@example.com  2018/01/07"
      ]
     },
     "execution_count": 6,
     "metadata": {},
     "output_type": "execute_result"
    }
   ],
   "source": [
    "kokyaku_data.head(3)"
   ]
  },
  {
   "cell_type": "code",
   "execution_count": 7,
   "metadata": {},
   "outputs": [
    {
     "data": {
      "text/plain": [
       "array(['商品A', '商 品 S', '商 品 a', '商品Z', '商品a', '商品S', '商品 a', '商品V', '商品O',\n",
       "       '商 品U', '商品L', '商  品V', '商 品O', '商品C', '商品I', '商品r', '商品X', '商品 g',\n",
       "       '商品R', '商品P', '商品Q', '商品y', '商品 A', '商品N', '商品W', '商 品E', '商品K',\n",
       "       '商品B', '商品F', '商 品s', '  商品W', ' 商 品 n', '商 品F', '商品D', '商品M',\n",
       "       '商品Y', '商品U', '商品H', '商品T', '商品J', '商  品O', '商品E', '商  品Q', ' 商品S',\n",
       "       ' 商品M', '商  品T', '商品G', '商 品G', ' 商品P', ' 商品E', '商 品N', '商 品Y',\n",
       "       '商品 J', '商品 V', '商品 K', '商 品V', '商 品D', '商 品A', '商品 F', '商品 H',\n",
       "       '商 品K', '商 品T', '商品 X', '商品 Q', '商 品X', '商 品H', '商 品C', '商品 B',\n",
       "       '商品 O', '商品 T', '商品v', '商品p', '商品i', '商品 w', '商 品 s', '商 品 q',\n",
       "       '商品s', '商品l', '商品t', '商品k', '商品g', '商品o', '商品 R', '商品 S', '商 品M',\n",
       "       '商品j', '商品d', '商品 I', '商品 E', '商品 o', '商品c', '商品 v', '商品e', '商品x',\n",
       "       '商 品I', ' 商品W', ' 商品X', '商品 M', '商 品P'], dtype=object)"
      ]
     },
     "execution_count": 7,
     "metadata": {},
     "output_type": "execute_result"
    }
   ],
   "source": [
    "uriage_data['item_name'].unique()"
   ]
  },
  {
   "cell_type": "code",
   "execution_count": 8,
   "metadata": {},
   "outputs": [
    {
     "data": {
      "text/plain": [
       "array([ 100.,   nan, 2600., 1900., 2200., 1500., 2100., 1200.,  300.,\n",
       "        900., 1800., 2400.,  700., 1600., 1700., 2500., 2300.,  500.,\n",
       "       1100.,  200.,  600., 1400.,  400., 1300.,  800., 2000., 1000.])"
      ]
     },
     "execution_count": 8,
     "metadata": {},
     "output_type": "execute_result"
    }
   ],
   "source": [
    "uriage_data['item_price'].unique()"
   ]
  },
  {
   "cell_type": "code",
   "execution_count": 9,
   "metadata": {},
   "outputs": [],
   "source": [
    "def convert_str(x):\n",
    "    x = x.upper()\n",
    "    x = x.replace(' ', '')\n",
    "    ans = x.replace('　', '')\n",
    "    return ans\n"
   ]
  },
  {
   "cell_type": "code",
   "execution_count": 10,
   "metadata": {},
   "outputs": [
    {
     "data": {
      "text/html": [
       "<div>\n",
       "<style scoped>\n",
       "    .dataframe tbody tr th:only-of-type {\n",
       "        vertical-align: middle;\n",
       "    }\n",
       "\n",
       "    .dataframe tbody tr th {\n",
       "        vertical-align: top;\n",
       "    }\n",
       "\n",
       "    .dataframe thead th {\n",
       "        text-align: right;\n",
       "    }\n",
       "</style>\n",
       "<table border=\"1\" class=\"dataframe\">\n",
       "  <thead>\n",
       "    <tr style=\"text-align: right;\">\n",
       "      <th></th>\n",
       "      <th>purchase_date</th>\n",
       "      <th>item_name</th>\n",
       "      <th>item_price</th>\n",
       "      <th>customer_name</th>\n",
       "    </tr>\n",
       "  </thead>\n",
       "  <tbody>\n",
       "    <tr>\n",
       "      <td>0</td>\n",
       "      <td>2019-06-13 18:02:34</td>\n",
       "      <td>商品A</td>\n",
       "      <td>100.0</td>\n",
       "      <td>深井菜々美</td>\n",
       "    </tr>\n",
       "    <tr>\n",
       "      <td>1</td>\n",
       "      <td>2019-07-13 13:05:29</td>\n",
       "      <td>商品S</td>\n",
       "      <td>NaN</td>\n",
       "      <td>浅田賢二</td>\n",
       "    </tr>\n",
       "    <tr>\n",
       "      <td>2</td>\n",
       "      <td>2019-05-11 19:42:07</td>\n",
       "      <td>商品A</td>\n",
       "      <td>NaN</td>\n",
       "      <td>南部慶二</td>\n",
       "    </tr>\n",
       "    <tr>\n",
       "      <td>3</td>\n",
       "      <td>2019-02-12 23:40:45</td>\n",
       "      <td>商品Z</td>\n",
       "      <td>2600.0</td>\n",
       "      <td>麻生莉緒</td>\n",
       "    </tr>\n",
       "    <tr>\n",
       "      <td>4</td>\n",
       "      <td>2019-04-22 03:09:35</td>\n",
       "      <td>商品A</td>\n",
       "      <td>NaN</td>\n",
       "      <td>平田鉄二</td>\n",
       "    </tr>\n",
       "  </tbody>\n",
       "</table>\n",
       "</div>"
      ],
      "text/plain": [
       "         purchase_date item_name  item_price customer_name\n",
       "0  2019-06-13 18:02:34       商品A       100.0         深井菜々美\n",
       "1  2019-07-13 13:05:29       商品S         NaN          浅田賢二\n",
       "2  2019-05-11 19:42:07       商品A         NaN          南部慶二\n",
       "3  2019-02-12 23:40:45       商品Z      2600.0          麻生莉緒\n",
       "4  2019-04-22 03:09:35       商品A         NaN          平田鉄二"
      ]
     },
     "execution_count": 10,
     "metadata": {},
     "output_type": "execute_result"
    }
   ],
   "source": [
    "uriage_data['item_name'] = uriage_data['item_name'].apply(convert_str)\n",
    "uriage_data.head()"
   ]
  },
  {
   "cell_type": "code",
   "execution_count": 11,
   "metadata": {},
   "outputs": [
    {
     "data": {
      "text/plain": [
       "array(['商品A', '商品S', '商品Z', '商品V', '商品O', '商品U', '商品L', '商品C', '商品I',\n",
       "       '商品R', '商品X', '商品G', '商品P', '商品Q', '商品Y', '商品N', '商品W', '商品E',\n",
       "       '商品K', '商品B', '商品F', '商品D', '商品M', '商品H', '商品T', '商品J'],\n",
       "      dtype=object)"
      ]
     },
     "execution_count": 11,
     "metadata": {},
     "output_type": "execute_result"
    }
   ],
   "source": [
    "uriage_data['item_name'].unique()"
   ]
  },
  {
   "cell_type": "code",
   "execution_count": 12,
   "metadata": {},
   "outputs": [
    {
     "data": {
      "text/html": [
       "<div>\n",
       "<style scoped>\n",
       "    .dataframe tbody tr th:only-of-type {\n",
       "        vertical-align: middle;\n",
       "    }\n",
       "\n",
       "    .dataframe tbody tr th {\n",
       "        vertical-align: top;\n",
       "    }\n",
       "\n",
       "    .dataframe thead th {\n",
       "        text-align: right;\n",
       "    }\n",
       "</style>\n",
       "<table border=\"1\" class=\"dataframe\">\n",
       "  <thead>\n",
       "    <tr style=\"text-align: right;\">\n",
       "      <th></th>\n",
       "      <th>item_name</th>\n",
       "      <th>item_price</th>\n",
       "    </tr>\n",
       "  </thead>\n",
       "  <tbody>\n",
       "    <tr>\n",
       "      <td>0</td>\n",
       "      <td>商品A</td>\n",
       "      <td>100.0</td>\n",
       "    </tr>\n",
       "    <tr>\n",
       "      <td>1</td>\n",
       "      <td>商品B</td>\n",
       "      <td>200.0</td>\n",
       "    </tr>\n",
       "    <tr>\n",
       "      <td>2</td>\n",
       "      <td>商品C</td>\n",
       "      <td>300.0</td>\n",
       "    </tr>\n",
       "    <tr>\n",
       "      <td>3</td>\n",
       "      <td>商品D</td>\n",
       "      <td>400.0</td>\n",
       "    </tr>\n",
       "    <tr>\n",
       "      <td>4</td>\n",
       "      <td>商品E</td>\n",
       "      <td>500.0</td>\n",
       "    </tr>\n",
       "  </tbody>\n",
       "</table>\n",
       "</div>"
      ],
      "text/plain": [
       "  item_name  item_price\n",
       "0       商品A       100.0\n",
       "1       商品B       200.0\n",
       "2       商品C       300.0\n",
       "3       商品D       400.0\n",
       "4       商品E       500.0"
      ]
     },
     "execution_count": 12,
     "metadata": {},
     "output_type": "execute_result"
    }
   ],
   "source": [
    "item = uriage_data.groupby('item_name').mean().reset_index()\n",
    "item.head()"
   ]
  },
  {
   "cell_type": "code",
   "execution_count": 13,
   "metadata": {},
   "outputs": [
    {
     "data": {
      "text/html": [
       "<div>\n",
       "<style scoped>\n",
       "    .dataframe tbody tr th:only-of-type {\n",
       "        vertical-align: middle;\n",
       "    }\n",
       "\n",
       "    .dataframe tbody tr th {\n",
       "        vertical-align: top;\n",
       "    }\n",
       "\n",
       "    .dataframe thead th {\n",
       "        text-align: right;\n",
       "    }\n",
       "</style>\n",
       "<table border=\"1\" class=\"dataframe\">\n",
       "  <thead>\n",
       "    <tr style=\"text-align: right;\">\n",
       "      <th></th>\n",
       "      <th>purchase_date</th>\n",
       "      <th>item_name</th>\n",
       "      <th>customer_name</th>\n",
       "      <th>item_price_y</th>\n",
       "    </tr>\n",
       "  </thead>\n",
       "  <tbody>\n",
       "    <tr>\n",
       "      <td>0</td>\n",
       "      <td>2019-06-13 18:02:34</td>\n",
       "      <td>商品A</td>\n",
       "      <td>深井菜々美</td>\n",
       "      <td>100.0</td>\n",
       "    </tr>\n",
       "    <tr>\n",
       "      <td>1</td>\n",
       "      <td>2019-07-13 13:05:29</td>\n",
       "      <td>商品S</td>\n",
       "      <td>浅田賢二</td>\n",
       "      <td>1900.0</td>\n",
       "    </tr>\n",
       "    <tr>\n",
       "      <td>2</td>\n",
       "      <td>2019-05-11 19:42:07</td>\n",
       "      <td>商品A</td>\n",
       "      <td>南部慶二</td>\n",
       "      <td>100.0</td>\n",
       "    </tr>\n",
       "    <tr>\n",
       "      <td>3</td>\n",
       "      <td>2019-02-12 23:40:45</td>\n",
       "      <td>商品Z</td>\n",
       "      <td>麻生莉緒</td>\n",
       "      <td>2600.0</td>\n",
       "    </tr>\n",
       "    <tr>\n",
       "      <td>4</td>\n",
       "      <td>2019-04-22 03:09:35</td>\n",
       "      <td>商品A</td>\n",
       "      <td>平田鉄二</td>\n",
       "      <td>100.0</td>\n",
       "    </tr>\n",
       "  </tbody>\n",
       "</table>\n",
       "</div>"
      ],
      "text/plain": [
       "         purchase_date item_name customer_name  item_price_y\n",
       "0  2019-06-13 18:02:34       商品A         深井菜々美         100.0\n",
       "1  2019-07-13 13:05:29       商品S          浅田賢二        1900.0\n",
       "2  2019-05-11 19:42:07       商品A          南部慶二         100.0\n",
       "3  2019-02-12 23:40:45       商品Z          麻生莉緒        2600.0\n",
       "4  2019-04-22 03:09:35       商品A          平田鉄二         100.0"
      ]
     },
     "execution_count": 13,
     "metadata": {},
     "output_type": "execute_result"
    }
   ],
   "source": [
    "uriage_data_merge = uriage_data.merge(item, on='item_name', how='left')\n",
    "uriage_data_merge.drop('item_price_x', inplace=True, axis=1)\n",
    "uriage_data_merge.head()"
   ]
  },
  {
   "cell_type": "code",
   "execution_count": 29,
   "metadata": {},
   "outputs": [],
   "source": [
    "# type(uriage_data_merge['purchase_date'])\n",
    "uriage_data_merge['purchase_date'] = pd.to_datetime(uriage_data_merge['purchase_date'])"
   ]
  },
  {
   "cell_type": "code",
   "execution_count": 31,
   "metadata": {},
   "outputs": [
    {
     "data": {
      "text/html": [
       "<div>\n",
       "<style scoped>\n",
       "    .dataframe tbody tr th:only-of-type {\n",
       "        vertical-align: middle;\n",
       "    }\n",
       "\n",
       "    .dataframe tbody tr th {\n",
       "        vertical-align: top;\n",
       "    }\n",
       "\n",
       "    .dataframe thead th {\n",
       "        text-align: right;\n",
       "    }\n",
       "</style>\n",
       "<table border=\"1\" class=\"dataframe\">\n",
       "  <thead>\n",
       "    <tr style=\"text-align: right;\">\n",
       "      <th></th>\n",
       "      <th>purchase_date</th>\n",
       "      <th>item_name</th>\n",
       "      <th>customer_name</th>\n",
       "      <th>item_price_y</th>\n",
       "      <th>purchase_month</th>\n",
       "    </tr>\n",
       "  </thead>\n",
       "  <tbody>\n",
       "    <tr>\n",
       "      <td>0</td>\n",
       "      <td>2019-06-13 18:02:34</td>\n",
       "      <td>商品A</td>\n",
       "      <td>深井菜々美</td>\n",
       "      <td>100.0</td>\n",
       "      <td>201906</td>\n",
       "    </tr>\n",
       "    <tr>\n",
       "      <td>1</td>\n",
       "      <td>2019-07-13 13:05:29</td>\n",
       "      <td>商品S</td>\n",
       "      <td>浅田賢二</td>\n",
       "      <td>1900.0</td>\n",
       "      <td>201907</td>\n",
       "    </tr>\n",
       "    <tr>\n",
       "      <td>2</td>\n",
       "      <td>2019-05-11 19:42:07</td>\n",
       "      <td>商品A</td>\n",
       "      <td>南部慶二</td>\n",
       "      <td>100.0</td>\n",
       "      <td>201905</td>\n",
       "    </tr>\n",
       "    <tr>\n",
       "      <td>3</td>\n",
       "      <td>2019-02-12 23:40:45</td>\n",
       "      <td>商品Z</td>\n",
       "      <td>麻生莉緒</td>\n",
       "      <td>2600.0</td>\n",
       "      <td>201902</td>\n",
       "    </tr>\n",
       "    <tr>\n",
       "      <td>4</td>\n",
       "      <td>2019-04-22 03:09:35</td>\n",
       "      <td>商品A</td>\n",
       "      <td>平田鉄二</td>\n",
       "      <td>100.0</td>\n",
       "      <td>201904</td>\n",
       "    </tr>\n",
       "  </tbody>\n",
       "</table>\n",
       "</div>"
      ],
      "text/plain": [
       "        purchase_date item_name customer_name  item_price_y purchase_month\n",
       "0 2019-06-13 18:02:34       商品A         深井菜々美         100.0         201906\n",
       "1 2019-07-13 13:05:29       商品S          浅田賢二        1900.0         201907\n",
       "2 2019-05-11 19:42:07       商品A          南部慶二         100.0         201905\n",
       "3 2019-02-12 23:40:45       商品Z          麻生莉緒        2600.0         201902\n",
       "4 2019-04-22 03:09:35       商品A          平田鉄二         100.0         201904"
      ]
     },
     "execution_count": 31,
     "metadata": {},
     "output_type": "execute_result"
    }
   ],
   "source": [
    "uriage_data_merge['purchase_month'] = uriage_data_merge['purchase_date'].dt.strftime('%Y%m')\n",
    "uriage_data_merge.head()"
   ]
  },
  {
   "cell_type": "code",
   "execution_count": 14,
   "metadata": {},
   "outputs": [
    {
     "data": {
      "text/plain": [
       "0     須賀ひとみ\n",
       "1    岡田　 敏也\n",
       "2      芳賀 希\n",
       "3     荻野  愛\n",
       "4     栗田 憲一\n",
       "Name: 顧客名, dtype: object"
      ]
     },
     "execution_count": 14,
     "metadata": {},
     "output_type": "execute_result"
    }
   ],
   "source": [
    "kokyaku_data['顧客名'].head()"
   ]
  },
  {
   "cell_type": "code",
   "execution_count": 15,
   "metadata": {},
   "outputs": [],
   "source": [
    "kokyaku_data['顧客名'] = kokyaku_data['顧客名'].apply(lambda x: x.replace(' ', '').replace('　', ''))"
   ]
  },
  {
   "cell_type": "code",
   "execution_count": 16,
   "metadata": {},
   "outputs": [
    {
     "data": {
      "text/html": [
       "<div>\n",
       "<style scoped>\n",
       "    .dataframe tbody tr th:only-of-type {\n",
       "        vertical-align: middle;\n",
       "    }\n",
       "\n",
       "    .dataframe tbody tr th {\n",
       "        vertical-align: top;\n",
       "    }\n",
       "\n",
       "    .dataframe thead th {\n",
       "        text-align: right;\n",
       "    }\n",
       "</style>\n",
       "<table border=\"1\" class=\"dataframe\">\n",
       "  <thead>\n",
       "    <tr style=\"text-align: right;\">\n",
       "      <th></th>\n",
       "      <th>顧客名</th>\n",
       "      <th>かな</th>\n",
       "      <th>地域</th>\n",
       "      <th>メールアドレス</th>\n",
       "      <th>登録日</th>\n",
       "    </tr>\n",
       "  </thead>\n",
       "  <tbody>\n",
       "    <tr>\n",
       "      <td>0</td>\n",
       "      <td>須賀ひとみ</td>\n",
       "      <td>すが ひとみ</td>\n",
       "      <td>H市</td>\n",
       "      <td>suga_hitomi@example.com</td>\n",
       "      <td>2018/01/04</td>\n",
       "    </tr>\n",
       "    <tr>\n",
       "      <td>1</td>\n",
       "      <td>岡田敏也</td>\n",
       "      <td>おかだ としや</td>\n",
       "      <td>E市</td>\n",
       "      <td>okada_toshiya@example.com</td>\n",
       "      <td>42782</td>\n",
       "    </tr>\n",
       "    <tr>\n",
       "      <td>2</td>\n",
       "      <td>芳賀希</td>\n",
       "      <td>はが のぞみ</td>\n",
       "      <td>A市</td>\n",
       "      <td>haga_nozomi@example.com</td>\n",
       "      <td>2018/01/07</td>\n",
       "    </tr>\n",
       "    <tr>\n",
       "      <td>3</td>\n",
       "      <td>荻野愛</td>\n",
       "      <td>おぎの あい</td>\n",
       "      <td>F市</td>\n",
       "      <td>ogino_ai@example.com</td>\n",
       "      <td>42872</td>\n",
       "    </tr>\n",
       "    <tr>\n",
       "      <td>4</td>\n",
       "      <td>栗田憲一</td>\n",
       "      <td>くりた けんいち</td>\n",
       "      <td>E市</td>\n",
       "      <td>kurita_kenichi@example.com</td>\n",
       "      <td>43127</td>\n",
       "    </tr>\n",
       "  </tbody>\n",
       "</table>\n",
       "</div>"
      ],
      "text/plain": [
       "     顧客名        かな  地域                     メールアドレス         登録日\n",
       "0  須賀ひとみ    すが ひとみ  H市     suga_hitomi@example.com  2018/01/04\n",
       "1   岡田敏也   おかだ としや  E市   okada_toshiya@example.com       42782\n",
       "2    芳賀希    はが のぞみ  A市     haga_nozomi@example.com  2018/01/07\n",
       "3    荻野愛    おぎの あい  F市        ogino_ai@example.com       42872\n",
       "4   栗田憲一  くりた けんいち  E市  kurita_kenichi@example.com       43127"
      ]
     },
     "execution_count": 16,
     "metadata": {},
     "output_type": "execute_result"
    }
   ],
   "source": [
    "kokyaku_data.head()"
   ]
  },
  {
   "cell_type": "code",
   "execution_count": 17,
   "metadata": {},
   "outputs": [
    {
     "data": {
      "text/plain": [
       "22"
      ]
     },
     "execution_count": 17,
     "metadata": {},
     "output_type": "execute_result"
    }
   ],
   "source": [
    "fig_is_serial = kokyaku_data['登録日'].astype('str').str.isdigit()\n",
    "fig_is_serial.sum()"
   ]
  },
  {
   "cell_type": "code",
   "execution_count": 18,
   "metadata": {},
   "outputs": [
    {
     "data": {
      "text/plain": [
       "1     2017-02-16\n",
       "3     2017-05-17\n",
       "4     2018-01-27\n",
       "21    2017-07-04\n",
       "27    2017-06-15\n",
       "47    2017-01-06\n",
       "49    2017-07-13\n",
       "53    2017-04-08\n",
       "76    2018-03-29\n",
       "80    2018-01-10\n",
       "99    2017-05-30\n",
       "114   2018-06-03\n",
       "118   2018-01-29\n",
       "122   2018-04-16\n",
       "139   2017-05-25\n",
       "143   2017-03-24\n",
       "155   2017-01-19\n",
       "172   2018-03-22\n",
       "179   2017-01-08\n",
       "183   2017-07-24\n",
       "186   2018-07-13\n",
       "192   2018-06-08\n",
       "Name: 登録日, dtype: datetime64[ns]"
      ]
     },
     "execution_count": 18,
     "metadata": {},
     "output_type": "execute_result"
    }
   ],
   "source": [
    "fromSerial = pd.to_timedelta(kokyaku_data.loc[fig_is_serial, '登録日'].astype('float') -2, unit='D') + pd.to_datetime('1900/01/01')\n",
    "fromSerial"
   ]
  },
  {
   "cell_type": "markdown",
   "metadata": {},
   "source": [
    "What's シリアル値？\n",
    "**timedeltaとは？**\n",
    "　timedelta\t二つのdatetime型の値の差を、日・秒・マイクロ秒で表す"
   ]
  },
  {
   "cell_type": "code",
   "execution_count": 19,
   "metadata": {},
   "outputs": [
    {
     "data": {
      "text/plain": [
       "0     2018-01-04\n",
       "2     2018-01-07\n",
       "5     2017-06-20\n",
       "6     2018-06-11\n",
       "7     2017-05-19\n",
       "         ...    \n",
       "195   2017-06-20\n",
       "196   2018-06-20\n",
       "197   2017-04-29\n",
       "198   2019-04-19\n",
       "199   2019-04-23\n",
       "Name: 登録日, Length: 178, dtype: datetime64[ns]"
      ]
     },
     "execution_count": 19,
     "metadata": {},
     "output_type": "execute_result"
    }
   ],
   "source": [
    "fromString = pd.to_datetime(kokyaku_data.loc[~fig_is_serial, '登録日'])\n",
    "fromString"
   ]
  },
  {
   "cell_type": "markdown",
   "metadata": {},
   "source": [
    "**&: and, |: or, ~: not**"
   ]
  },
  {
   "cell_type": "code",
   "execution_count": 20,
   "metadata": {},
   "outputs": [
    {
     "data": {
      "text/html": [
       "<div>\n",
       "<style scoped>\n",
       "    .dataframe tbody tr th:only-of-type {\n",
       "        vertical-align: middle;\n",
       "    }\n",
       "\n",
       "    .dataframe tbody tr th {\n",
       "        vertical-align: top;\n",
       "    }\n",
       "\n",
       "    .dataframe thead th {\n",
       "        text-align: right;\n",
       "    }\n",
       "</style>\n",
       "<table border=\"1\" class=\"dataframe\">\n",
       "  <thead>\n",
       "    <tr style=\"text-align: right;\">\n",
       "      <th></th>\n",
       "      <th>顧客名</th>\n",
       "      <th>かな</th>\n",
       "      <th>地域</th>\n",
       "      <th>メールアドレス</th>\n",
       "      <th>登録日</th>\n",
       "    </tr>\n",
       "  </thead>\n",
       "  <tbody>\n",
       "    <tr>\n",
       "      <td>0</td>\n",
       "      <td>須賀ひとみ</td>\n",
       "      <td>すが ひとみ</td>\n",
       "      <td>H市</td>\n",
       "      <td>suga_hitomi@example.com</td>\n",
       "      <td>2018-01-04</td>\n",
       "    </tr>\n",
       "    <tr>\n",
       "      <td>1</td>\n",
       "      <td>岡田敏也</td>\n",
       "      <td>おかだ としや</td>\n",
       "      <td>E市</td>\n",
       "      <td>okada_toshiya@example.com</td>\n",
       "      <td>2017-02-16</td>\n",
       "    </tr>\n",
       "    <tr>\n",
       "      <td>2</td>\n",
       "      <td>芳賀希</td>\n",
       "      <td>はが のぞみ</td>\n",
       "      <td>A市</td>\n",
       "      <td>haga_nozomi@example.com</td>\n",
       "      <td>2018-01-07</td>\n",
       "    </tr>\n",
       "    <tr>\n",
       "      <td>3</td>\n",
       "      <td>荻野愛</td>\n",
       "      <td>おぎの あい</td>\n",
       "      <td>F市</td>\n",
       "      <td>ogino_ai@example.com</td>\n",
       "      <td>2017-05-17</td>\n",
       "    </tr>\n",
       "    <tr>\n",
       "      <td>4</td>\n",
       "      <td>栗田憲一</td>\n",
       "      <td>くりた けんいち</td>\n",
       "      <td>E市</td>\n",
       "      <td>kurita_kenichi@example.com</td>\n",
       "      <td>2018-01-27</td>\n",
       "    </tr>\n",
       "  </tbody>\n",
       "</table>\n",
       "</div>"
      ],
      "text/plain": [
       "     顧客名        かな  地域                     メールアドレス        登録日\n",
       "0  須賀ひとみ    すが ひとみ  H市     suga_hitomi@example.com 2018-01-04\n",
       "1   岡田敏也   おかだ としや  E市   okada_toshiya@example.com 2017-02-16\n",
       "2    芳賀希    はが のぞみ  A市     haga_nozomi@example.com 2018-01-07\n",
       "3    荻野愛    おぎの あい  F市        ogino_ai@example.com 2017-05-17\n",
       "4   栗田憲一  くりた けんいち  E市  kurita_kenichi@example.com 2018-01-27"
      ]
     },
     "execution_count": 20,
     "metadata": {},
     "output_type": "execute_result"
    }
   ],
   "source": [
    "kokyaku_data['登録日'] = pd.concat([fromSerial, fromString])\n",
    "kokyaku_data.head()"
   ]
  },
  {
   "cell_type": "code",
   "execution_count": 21,
   "metadata": {},
   "outputs": [
    {
     "data": {
      "text/plain": [
       "登録年月\n",
       "201701    15\n",
       "201702    11\n",
       "201703    14\n",
       "201704    15\n",
       "201705    14\n",
       "201706    13\n",
       "201707    17\n",
       "201801    13\n",
       "201802    15\n",
       "201803    17\n",
       "201804     5\n",
       "201805    19\n",
       "201806    13\n",
       "201807    17\n",
       "201904     2\n",
       "Name: 顧客名, dtype: int64"
      ]
     },
     "execution_count": 21,
     "metadata": {},
     "output_type": "execute_result"
    }
   ],
   "source": [
    "kokyaku_data['登録年月'] = kokyaku_data['登録日'].dt.strftime('%Y%m')\n",
    "result = kokyaku_data.groupby('登録年月').count()['顧客名']\n",
    "result"
   ]
  },
  {
   "cell_type": "markdown",
   "metadata": {},
   "source": [
    "## 顧客名をキーにして2つのデータを結合する"
   ]
  },
  {
   "cell_type": "code",
   "execution_count": 37,
   "metadata": {},
   "outputs": [
    {
     "data": {
      "text/html": [
       "<div>\n",
       "<style scoped>\n",
       "    .dataframe tbody tr th:only-of-type {\n",
       "        vertical-align: middle;\n",
       "    }\n",
       "\n",
       "    .dataframe tbody tr th {\n",
       "        vertical-align: top;\n",
       "    }\n",
       "\n",
       "    .dataframe thead th {\n",
       "        text-align: right;\n",
       "    }\n",
       "</style>\n",
       "<table border=\"1\" class=\"dataframe\">\n",
       "  <thead>\n",
       "    <tr style=\"text-align: right;\">\n",
       "      <th></th>\n",
       "      <th>顧客名</th>\n",
       "      <th>かな</th>\n",
       "      <th>地域</th>\n",
       "      <th>メールアドレス</th>\n",
       "      <th>登録日</th>\n",
       "      <th>登録年月</th>\n",
       "      <th>purchase_date</th>\n",
       "      <th>item_name</th>\n",
       "      <th>item_price_y</th>\n",
       "      <th>purchase_month</th>\n",
       "    </tr>\n",
       "  </thead>\n",
       "  <tbody>\n",
       "    <tr>\n",
       "      <td>0</td>\n",
       "      <td>須賀ひとみ</td>\n",
       "      <td>すが ひとみ</td>\n",
       "      <td>H市</td>\n",
       "      <td>suga_hitomi@example.com</td>\n",
       "      <td>2018-01-04</td>\n",
       "      <td>201801</td>\n",
       "      <td>2019-02-24 01:07:56</td>\n",
       "      <td>商品C</td>\n",
       "      <td>300.0</td>\n",
       "      <td>201902</td>\n",
       "    </tr>\n",
       "    <tr>\n",
       "      <td>1</td>\n",
       "      <td>須賀ひとみ</td>\n",
       "      <td>すが ひとみ</td>\n",
       "      <td>H市</td>\n",
       "      <td>suga_hitomi@example.com</td>\n",
       "      <td>2018-01-04</td>\n",
       "      <td>201801</td>\n",
       "      <td>2019-05-08 15:42:01</td>\n",
       "      <td>商品P</td>\n",
       "      <td>1600.0</td>\n",
       "      <td>201905</td>\n",
       "    </tr>\n",
       "    <tr>\n",
       "      <td>2</td>\n",
       "      <td>須賀ひとみ</td>\n",
       "      <td>すが ひとみ</td>\n",
       "      <td>H市</td>\n",
       "      <td>suga_hitomi@example.com</td>\n",
       "      <td>2018-01-04</td>\n",
       "      <td>201801</td>\n",
       "      <td>2019-07-03 07:49:05</td>\n",
       "      <td>商品M</td>\n",
       "      <td>1300.0</td>\n",
       "      <td>201907</td>\n",
       "    </tr>\n",
       "    <tr>\n",
       "      <td>3</td>\n",
       "      <td>須賀ひとみ</td>\n",
       "      <td>すが ひとみ</td>\n",
       "      <td>H市</td>\n",
       "      <td>suga_hitomi@example.com</td>\n",
       "      <td>2018-01-04</td>\n",
       "      <td>201801</td>\n",
       "      <td>2019-01-02 13:52:15</td>\n",
       "      <td>商品L</td>\n",
       "      <td>1200.0</td>\n",
       "      <td>201901</td>\n",
       "    </tr>\n",
       "    <tr>\n",
       "      <td>4</td>\n",
       "      <td>須賀ひとみ</td>\n",
       "      <td>すが ひとみ</td>\n",
       "      <td>H市</td>\n",
       "      <td>suga_hitomi@example.com</td>\n",
       "      <td>2018-01-04</td>\n",
       "      <td>201801</td>\n",
       "      <td>2019-06-29 04:58:36</td>\n",
       "      <td>商品R</td>\n",
       "      <td>1800.0</td>\n",
       "      <td>201906</td>\n",
       "    </tr>\n",
       "  </tbody>\n",
       "</table>\n",
       "</div>"
      ],
      "text/plain": [
       "     顧客名      かな  地域                  メールアドレス        登録日    登録年月  \\\n",
       "0  須賀ひとみ  すが ひとみ  H市  suga_hitomi@example.com 2018-01-04  201801   \n",
       "1  須賀ひとみ  すが ひとみ  H市  suga_hitomi@example.com 2018-01-04  201801   \n",
       "2  須賀ひとみ  すが ひとみ  H市  suga_hitomi@example.com 2018-01-04  201801   \n",
       "3  須賀ひとみ  すが ひとみ  H市  suga_hitomi@example.com 2018-01-04  201801   \n",
       "4  須賀ひとみ  すが ひとみ  H市  suga_hitomi@example.com 2018-01-04  201801   \n",
       "\n",
       "        purchase_date item_name  item_price_y purchase_month  \n",
       "0 2019-02-24 01:07:56       商品C         300.0         201902  \n",
       "1 2019-05-08 15:42:01       商品P        1600.0         201905  \n",
       "2 2019-07-03 07:49:05       商品M        1300.0         201907  \n",
       "3 2019-01-02 13:52:15       商品L        1200.0         201901  \n",
       "4 2019-06-29 04:58:36       商品R        1800.0         201906  "
      ]
     },
     "execution_count": 37,
     "metadata": {},
     "output_type": "execute_result"
    }
   ],
   "source": [
    "join_data = kokyaku_data.merge(uriage_data_merge, left_on='顧客名', right_on='customer_name', how='left')\n",
    "join_data.drop('customer_name', axis=1, inplace=True)\n",
    "join_data.head()"
   ]
  },
  {
   "cell_type": "markdown",
   "metadata": {},
   "source": [
    "## クレンジングしたデータを出力する前に整形するようにね！"
   ]
  },
  {
   "cell_type": "code",
   "execution_count": 38,
   "metadata": {},
   "outputs": [
    {
     "data": {
      "text/html": [
       "<div>\n",
       "<style scoped>\n",
       "    .dataframe tbody tr th:only-of-type {\n",
       "        vertical-align: middle;\n",
       "    }\n",
       "\n",
       "    .dataframe tbody tr th {\n",
       "        vertical-align: top;\n",
       "    }\n",
       "\n",
       "    .dataframe thead th {\n",
       "        text-align: right;\n",
       "    }\n",
       "</style>\n",
       "<table border=\"1\" class=\"dataframe\">\n",
       "  <thead>\n",
       "    <tr style=\"text-align: right;\">\n",
       "      <th></th>\n",
       "      <th>purchase_date</th>\n",
       "      <th>purchase_month</th>\n",
       "      <th>item_name</th>\n",
       "      <th>item_price</th>\n",
       "      <th>顧客名</th>\n",
       "      <th>かな</th>\n",
       "      <th>地域</th>\n",
       "      <th>登録日</th>\n",
       "      <th>登録年月</th>\n",
       "    </tr>\n",
       "  </thead>\n",
       "  <tbody>\n",
       "    <tr>\n",
       "      <td>0</td>\n",
       "      <td>2019-02-24 01:07:56</td>\n",
       "      <td>201902</td>\n",
       "      <td>商品C</td>\n",
       "      <td>300.0</td>\n",
       "      <td>須賀ひとみ</td>\n",
       "      <td>すが ひとみ</td>\n",
       "      <td>H市</td>\n",
       "      <td>2018-01-04</td>\n",
       "      <td>201801</td>\n",
       "    </tr>\n",
       "    <tr>\n",
       "      <td>1</td>\n",
       "      <td>2019-05-08 15:42:01</td>\n",
       "      <td>201905</td>\n",
       "      <td>商品P</td>\n",
       "      <td>1600.0</td>\n",
       "      <td>須賀ひとみ</td>\n",
       "      <td>すが ひとみ</td>\n",
       "      <td>H市</td>\n",
       "      <td>2018-01-04</td>\n",
       "      <td>201801</td>\n",
       "    </tr>\n",
       "    <tr>\n",
       "      <td>2</td>\n",
       "      <td>2019-07-03 07:49:05</td>\n",
       "      <td>201907</td>\n",
       "      <td>商品M</td>\n",
       "      <td>1300.0</td>\n",
       "      <td>須賀ひとみ</td>\n",
       "      <td>すが ひとみ</td>\n",
       "      <td>H市</td>\n",
       "      <td>2018-01-04</td>\n",
       "      <td>201801</td>\n",
       "    </tr>\n",
       "    <tr>\n",
       "      <td>3</td>\n",
       "      <td>2019-01-02 13:52:15</td>\n",
       "      <td>201901</td>\n",
       "      <td>商品L</td>\n",
       "      <td>1200.0</td>\n",
       "      <td>須賀ひとみ</td>\n",
       "      <td>すが ひとみ</td>\n",
       "      <td>H市</td>\n",
       "      <td>2018-01-04</td>\n",
       "      <td>201801</td>\n",
       "    </tr>\n",
       "    <tr>\n",
       "      <td>4</td>\n",
       "      <td>2019-06-29 04:58:36</td>\n",
       "      <td>201906</td>\n",
       "      <td>商品R</td>\n",
       "      <td>1800.0</td>\n",
       "      <td>須賀ひとみ</td>\n",
       "      <td>すが ひとみ</td>\n",
       "      <td>H市</td>\n",
       "      <td>2018-01-04</td>\n",
       "      <td>201801</td>\n",
       "    </tr>\n",
       "  </tbody>\n",
       "</table>\n",
       "</div>"
      ],
      "text/plain": [
       "        purchase_date purchase_month item_name  item_price    顧客名      かな  地域  \\\n",
       "0 2019-02-24 01:07:56         201902       商品C       300.0  須賀ひとみ  すが ひとみ  H市   \n",
       "1 2019-05-08 15:42:01         201905       商品P      1600.0  須賀ひとみ  すが ひとみ  H市   \n",
       "2 2019-07-03 07:49:05         201907       商品M      1300.0  須賀ひとみ  すが ひとみ  H市   \n",
       "3 2019-01-02 13:52:15         201901       商品L      1200.0  須賀ひとみ  すが ひとみ  H市   \n",
       "4 2019-06-29 04:58:36         201906       商品R      1800.0  須賀ひとみ  すが ひとみ  H市   \n",
       "\n",
       "         登録日    登録年月  \n",
       "0 2018-01-04  201801  \n",
       "1 2018-01-04  201801  \n",
       "2 2018-01-04  201801  \n",
       "3 2018-01-04  201801  \n",
       "4 2018-01-04  201801  "
      ]
     },
     "execution_count": 38,
     "metadata": {},
     "output_type": "execute_result"
    }
   ],
   "source": [
    "dump_data = join_data[['purchase_date', 'purchase_month', 'item_name', 'item_price_y','顧客名', 'かな', '地域', '登録日', '登録年月' ]]\n",
    "dump_data = dump_data.rename(columns={'item_price_y': 'item_price'})\n",
    "dump_data.head()"
   ]
  },
  {
   "cell_type": "code",
   "execution_count": 41,
   "metadata": {},
   "outputs": [],
   "source": [
    "dump_data.to_csv('Data100/dump_data.csv', index=False)"
   ]
  },
  {
   "cell_type": "code",
   "execution_count": 42,
   "metadata": {},
   "outputs": [
    {
     "data": {
      "text/html": [
       "<div>\n",
       "<style scoped>\n",
       "    .dataframe tbody tr th:only-of-type {\n",
       "        vertical-align: middle;\n",
       "    }\n",
       "\n",
       "    .dataframe tbody tr th {\n",
       "        vertical-align: top;\n",
       "    }\n",
       "\n",
       "    .dataframe thead th {\n",
       "        text-align: right;\n",
       "    }\n",
       "</style>\n",
       "<table border=\"1\" class=\"dataframe\">\n",
       "  <thead>\n",
       "    <tr style=\"text-align: right;\">\n",
       "      <th></th>\n",
       "      <th>purchase_date</th>\n",
       "      <th>purchase_month</th>\n",
       "      <th>item_name</th>\n",
       "      <th>item_price</th>\n",
       "      <th>顧客名</th>\n",
       "      <th>かな</th>\n",
       "      <th>地域</th>\n",
       "      <th>登録日</th>\n",
       "      <th>登録年月</th>\n",
       "    </tr>\n",
       "  </thead>\n",
       "  <tbody>\n",
       "    <tr>\n",
       "      <td>0</td>\n",
       "      <td>2019-02-24 01:07:56</td>\n",
       "      <td>201902.0</td>\n",
       "      <td>商品C</td>\n",
       "      <td>300.0</td>\n",
       "      <td>須賀ひとみ</td>\n",
       "      <td>すが ひとみ</td>\n",
       "      <td>H市</td>\n",
       "      <td>2018-01-04 00:00:00</td>\n",
       "      <td>201801</td>\n",
       "    </tr>\n",
       "    <tr>\n",
       "      <td>1</td>\n",
       "      <td>2019-05-08 15:42:01</td>\n",
       "      <td>201905.0</td>\n",
       "      <td>商品P</td>\n",
       "      <td>1600.0</td>\n",
       "      <td>須賀ひとみ</td>\n",
       "      <td>すが ひとみ</td>\n",
       "      <td>H市</td>\n",
       "      <td>2018-01-04 00:00:00</td>\n",
       "      <td>201801</td>\n",
       "    </tr>\n",
       "    <tr>\n",
       "      <td>2</td>\n",
       "      <td>2019-07-03 07:49:05</td>\n",
       "      <td>201907.0</td>\n",
       "      <td>商品M</td>\n",
       "      <td>1300.0</td>\n",
       "      <td>須賀ひとみ</td>\n",
       "      <td>すが ひとみ</td>\n",
       "      <td>H市</td>\n",
       "      <td>2018-01-04 00:00:00</td>\n",
       "      <td>201801</td>\n",
       "    </tr>\n",
       "    <tr>\n",
       "      <td>3</td>\n",
       "      <td>2019-01-02 13:52:15</td>\n",
       "      <td>201901.0</td>\n",
       "      <td>商品L</td>\n",
       "      <td>1200.0</td>\n",
       "      <td>須賀ひとみ</td>\n",
       "      <td>すが ひとみ</td>\n",
       "      <td>H市</td>\n",
       "      <td>2018-01-04 00:00:00</td>\n",
       "      <td>201801</td>\n",
       "    </tr>\n",
       "    <tr>\n",
       "      <td>4</td>\n",
       "      <td>2019-06-29 04:58:36</td>\n",
       "      <td>201906.0</td>\n",
       "      <td>商品R</td>\n",
       "      <td>1800.0</td>\n",
       "      <td>須賀ひとみ</td>\n",
       "      <td>すが ひとみ</td>\n",
       "      <td>H市</td>\n",
       "      <td>2018-01-04 00:00:00</td>\n",
       "      <td>201801</td>\n",
       "    </tr>\n",
       "  </tbody>\n",
       "</table>\n",
       "</div>"
      ],
      "text/plain": [
       "         purchase_date  purchase_month item_name  item_price    顧客名      かな  \\\n",
       "0  2019-02-24 01:07:56        201902.0       商品C       300.0  須賀ひとみ  すが ひとみ   \n",
       "1  2019-05-08 15:42:01        201905.0       商品P      1600.0  須賀ひとみ  すが ひとみ   \n",
       "2  2019-07-03 07:49:05        201907.0       商品M      1300.0  須賀ひとみ  すが ひとみ   \n",
       "3  2019-01-02 13:52:15        201901.0       商品L      1200.0  須賀ひとみ  すが ひとみ   \n",
       "4  2019-06-29 04:58:36        201906.0       商品R      1800.0  須賀ひとみ  すが ひとみ   \n",
       "\n",
       "   地域                  登録日    登録年月  \n",
       "0  H市  2018-01-04 00:00:00  201801  \n",
       "1  H市  2018-01-04 00:00:00  201801  \n",
       "2  H市  2018-01-04 00:00:00  201801  \n",
       "3  H市  2018-01-04 00:00:00  201801  \n",
       "4  H市  2018-01-04 00:00:00  201801  "
      ]
     },
     "execution_count": 42,
     "metadata": {},
     "output_type": "execute_result"
    }
   ],
   "source": [
    "import_data = pd.read_csv('Data100/dump_data.csv')\n",
    "import_data.head()"
   ]
  },
  {
   "cell_type": "code",
   "execution_count": 74,
   "metadata": {},
   "outputs": [
    {
     "name": "stdout",
     "output_type": "stream",
     "text": [
      "<class 'pandas.core.frame.DataFrame'>\n",
      "RangeIndex: 3000 entries, 0 to 2999\n",
      "Data columns (total 9 columns):\n",
      "purchase_date     2999 non-null object\n",
      "purchase_month    2999 non-null float64\n",
      "item_name         2999 non-null object\n",
      "item_price        2999 non-null float64\n",
      "顧客名               3000 non-null object\n",
      "かな                3000 non-null object\n",
      "地域                3000 non-null object\n",
      "登録日               3000 non-null object\n",
      "登録年月              3000 non-null int64\n",
      "dtypes: float64(2), int64(1), object(6)\n",
      "memory usage: 211.1+ KB\n"
     ]
    }
   ],
   "source": [
    "import_data.info()"
   ]
  },
  {
   "cell_type": "code",
   "execution_count": 75,
   "metadata": {},
   "outputs": [
    {
     "data": {
      "text/plain": [
       "0       False\n",
       "1       False\n",
       "2       False\n",
       "3       False\n",
       "4       False\n",
       "        ...  \n",
       "2995    False\n",
       "2996    False\n",
       "2997    False\n",
       "2998    False\n",
       "2999     True\n",
       "Name: item_price, Length: 3000, dtype: bool"
      ]
     },
     "execution_count": 75,
     "metadata": {},
     "output_type": "execute_result"
    }
   ],
   "source": [
    "import_data['item_price'].isnull()"
   ]
  },
  {
   "cell_type": "code",
   "execution_count": 78,
   "metadata": {},
   "outputs": [],
   "source": [
    "import_data.drop(2999,axis=0, inplace=True)"
   ]
  },
  {
   "cell_type": "code",
   "execution_count": 79,
   "metadata": {},
   "outputs": [
    {
     "data": {
      "text/plain": [
       "'A'"
      ]
     },
     "execution_count": 79,
     "metadata": {},
     "output_type": "execute_result"
    }
   ],
   "source": [
    "x = '商品A'\n",
    "x.split('商品')[1]"
   ]
  },
  {
   "cell_type": "code",
   "execution_count": 80,
   "metadata": {},
   "outputs": [
    {
     "data": {
      "text/plain": [
       "str"
      ]
     },
     "execution_count": 80,
     "metadata": {},
     "output_type": "execute_result"
    }
   ],
   "source": [
    "x = import_data['item_name'][3]\n",
    "str(x)\n",
    "type(x)"
   ]
  },
  {
   "cell_type": "code",
   "execution_count": 81,
   "metadata": {},
   "outputs": [
    {
     "data": {
      "text/plain": [
       "'A'"
      ]
     },
     "execution_count": 81,
     "metadata": {},
     "output_type": "execute_result"
    }
   ],
   "source": [
    "def split_item(x):\n",
    "    ans = x.split('商品')[1]\n",
    "    return ans\n",
    "\n",
    "split_item('商品A')"
   ]
  },
  {
   "cell_type": "code",
   "execution_count": 84,
   "metadata": {},
   "outputs": [
    {
     "data": {
      "image/png": "[encoded data removed]",
      "text/plain": [
       "<Figure size 800x500 with 1 Axes>"
      ]
     },
     "metadata": {},
     "output_type": "display_data"
    }
   ],
   "source": [
    "sns.set()\n",
    "import_data['items'] = import_data['item_name'].astype(str).apply(split_item)\n",
    "\n",
    "fig, ax = plt.subplots(figsize=(8,5), dpi = 100)\n",
    "ax = sns.countplot(x='items', data=import_data);"
   ]
  },
  {
   "cell_type": "code",
   "execution_count": null,
   "metadata": {},
   "outputs": [],
   "source": []
  }
 ],
 "metadata": {
  "kernelspec": {
   "display_name": "Python 3",
   "language": "python",
   "name": "python3"
  },
  "language_info": {
   "codemirror_mode": {
    "name": "ipython",
    "version": 3
   },
   "file_extension": ".py",
   "mimetype": "text/x-python",
   "name": "python",
   "nbconvert_exporter": "python",
   "pygments_lexer": "ipython3",
   "version": "3.7.4"
  }
 },
 "nbformat": 4,
 "nbformat_minor": 4
}
