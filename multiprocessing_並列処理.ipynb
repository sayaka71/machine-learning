{
 "cells": [
  {
   "cell_type": "markdown",
   "metadata": {},
   "source": [
    "# multiprocessingで並列処理"
   ]
  },
  {
   "cell_type": "code",
   "execution_count": 1,
   "metadata": {},
   "outputs": [],
   "source": [
    "from multiprocessing import Pool"
   ]
  },
  {
   "cell_type": "code",
   "execution_count": 2,
   "metadata": {},
   "outputs": [],
   "source": [
    "cpu_num = 4\n",
    "p = Pool(processes=cpu_num)"
   ]
  },
  {
   "cell_type": "code",
   "execution_count": 3,
   "metadata": {},
   "outputs": [
    {
     "data": {
      "text/plain": [
       "4"
      ]
     },
     "execution_count": 3,
     "metadata": {},
     "output_type": "execute_result"
    }
   ],
   "source": [
    "from multiprocessing import cpu_count\n",
    "cpu_count()"
   ]
  },
  {
   "cell_type": "markdown",
   "metadata": {},
   "source": [
    "map()関数は第一引数に関数，第二引数にイテラブル(iiterable)を入れます. iterableというのはイテレータ(iterator)になりうるオブジェクトです．リストやタプルはiterableオブジェクトです．(for文でイテレーションできますもんね)"
   ]
  },
  {
   "cell_type": "code",
   "execution_count": 4,
   "metadata": {},
   "outputs": [
    {
     "data": {
      "text/plain": [
       "[2, 4, 6, 8]"
      ]
     },
     "execution_count": 4,
     "metadata": {},
     "output_type": "execute_result"
    }
   ],
   "source": [
    "def double(n):\n",
    "    return 2 * n\n",
    "\n",
    "params = [1, 2, 3, 4]\n",
    " \n",
    "results = map(double, params)\n",
    "#resultsはイテレータなのでlist()に入れて中身を表示\n",
    "list(results)"
   ]
  },
  {
   "cell_type": "code",
   "execution_count": null,
   "metadata": {},
   "outputs": [],
   "source": [
    "import os\n",
    "import numpy as np\n",
    "import cv2\n",
    "from multiprocessing import Pool, cpu_count\n",
    "from tqdm import tqdm\n",
    "from glob import glob\n",
    " \n",
    "p = Pool(processes=cpu_count()-1)\n",
    "# NumPy Arrayをsaveするフォルダ\n",
    "save_base_path = 'gaussian_filtered_nparrays/'\n",
    "\n",
    "\n",
    "# フォルダ作成\n",
    "if not os.path.exists(save_base_path):\n",
    "    os.makedirs(save_base_path)\n",
    "    \n",
    "def save_npy(path):\n",
    "    \n",
    "    #pngデータをopencvでロード\n",
    "    im = cv2.imread(path)\n",
    "    #pngのファイル名をそのまま.npyファイルのファイル名にする\n",
    "    file_name = path.split('/')[-1].split('.png')[0]\n",
    "    save_path = save_base_path + file_name\n",
    "    #全てのnpyファイルを同じフォルダに格納\n",
    "    np.save(save_path, im)\n",
    " \n"
   ]
  },
  {
   "cell_type": "code",
   "execution_count": null,
   "metadata": {},
   "outputs": [],
   "source": [
    "glob_all_path = glob('diabetic-retinopathy-224x224-gaussian-filtered/gaussian_filtered_images/gaussian_filtered_images/*/*.png')\n",
    "\n",
    "# p.map(save_npy, glob_all_path)よりもimap()のほうがよい\n",
    "list(tqdm(p.imap(save_npy, glob_all_path), total=len(glob_all_path)))\n",
    " \n",
    "# 並列処理が終わったら閉じます\n",
    "p.close()\n",
    "p.join()"
   ]
  },
  {
   "cell_type": "code",
   "execution_count": null,
   "metadata": {},
   "outputs": [],
   "source": []
  },
  {
   "cell_type": "markdown",
   "metadata": {},
   "source": [
    "これを並列処理する↓"
   ]
  },
  {
   "cell_type": "code",
   "execution_count": null,
   "metadata": {},
   "outputs": [],
   "source": [
    "glob_all_path = glob('diabetic-retinopathy-224x224-gaussian-filtered/gaussian_filtered_images/gaussian_filtered_images/*/*.png')\n",
    "glob_extension = [i.split('.')[-1] for i in glob_all_path]\n",
    "glob_type = [i.split('/')[3] for i in glob_all_path]\n",
    "\n",
    "import cv2\n",
    "import numpy as np\n",
    "\n",
    "# Numpy Arrayをsaveするフォルダ\n",
    "save_base_path = 'gaussian_filtered_nparrays/'\n",
    "\n",
    "for p in tqdm(glob_all_path):\n",
    "    im = cv2.imread(p)\n",
    "    file_name = p.split('/')[-1].split('.png')[0]\n",
    "    save_path = save_base_path + file_name\n",
    "    np.save(save_path, im)"
   ]
  }
 ],
 "metadata": {
  "kernelspec": {
   "display_name": "Python 3",
   "language": "python",
   "name": "python3"
  },
  "language_info": {
   "codemirror_mode": {
    "name": "ipython",
    "version": 3
   },
   "file_extension": ".py",
   "mimetype": "text/x-python",
   "name": "python",
   "nbconvert_exporter": "python",
   "pygments_lexer": "ipython3",
   "version": "3.7.4"
  }
 },
 "nbformat": 4,
 "nbformat_minor": 4
}
